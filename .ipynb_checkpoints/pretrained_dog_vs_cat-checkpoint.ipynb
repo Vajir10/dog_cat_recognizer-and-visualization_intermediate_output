{
 "cells": [
  {
   "cell_type": "code",
   "execution_count": 1,
   "metadata": {},
   "outputs": [
    {
     "name": "stderr",
     "output_type": "stream",
     "text": [
      "/home/vajir/anaconda3/lib/python3.6/importlib/_bootstrap.py:219: RuntimeWarning: numpy.dtype size changed, may indicate binary incompatibility. Expected 96, got 88\n",
      "  return f(*args, **kwds)\n",
      "/home/vajir/anaconda3/lib/python3.6/site-packages/h5py/__init__.py:36: FutureWarning: Conversion of the second argument of issubdtype from `float` to `np.floating` is deprecated. In future, it will be treated as `np.float64 == np.dtype(float).type`.\n",
      "  from ._conv import register_converters as _register_converters\n",
      "Using TensorFlow backend.\n",
      "/home/vajir/anaconda3/lib/python3.6/importlib/_bootstrap.py:219: RuntimeWarning: numpy.dtype size changed, may indicate binary incompatibility. Expected 96, got 88\n",
      "  return f(*args, **kwds)\n",
      "/home/vajir/anaconda3/lib/python3.6/importlib/_bootstrap.py:219: RuntimeWarning: numpy.dtype size changed, may indicate binary incompatibility. Expected 96, got 88\n",
      "  return f(*args, **kwds)\n",
      "/home/vajir/anaconda3/lib/python3.6/importlib/_bootstrap.py:219: RuntimeWarning: numpy.dtype size changed, may indicate binary incompatibility. Expected 96, got 88\n",
      "  return f(*args, **kwds)\n"
     ]
    },
    {
     "name": "stdout",
     "output_type": "stream",
     "text": [
      "Downloading data from https://github.com/fchollet/deep-learning-models/releases/download/v0.1/vgg16_weights_tf_dim_ordering_tf_kernels_notop.h5\n",
      "58892288/58889256 [==============================] - 47s 1us/step\n"
     ]
    }
   ],
   "source": [
    "from keras.applications import VGG16\n",
    "conv_base = VGG16(weights ='imagenet' ,include_top =False ,input_shape =(150 ,150,3))"
   ]
  },
  {
   "cell_type": "code",
   "execution_count": 3,
   "metadata": {},
   "outputs": [
    {
     "name": "stdout",
     "output_type": "stream",
     "text": [
      "_________________________________________________________________\n",
      "Layer (type)                 Output Shape              Param #   \n",
      "=================================================================\n",
      "input_1 (InputLayer)         (None, 150, 150, 3)       0         \n",
      "_________________________________________________________________\n",
      "block1_conv1 (Conv2D)        (None, 150, 150, 64)      1792      \n",
      "_________________________________________________________________\n",
      "block1_conv2 (Conv2D)        (None, 150, 150, 64)      36928     \n",
      "_________________________________________________________________\n",
      "block1_pool (MaxPooling2D)   (None, 75, 75, 64)        0         \n",
      "_________________________________________________________________\n",
      "block2_conv1 (Conv2D)        (None, 75, 75, 128)       73856     \n",
      "_________________________________________________________________\n",
      "block2_conv2 (Conv2D)        (None, 75, 75, 128)       147584    \n",
      "_________________________________________________________________\n",
      "block2_pool (MaxPooling2D)   (None, 37, 37, 128)       0         \n",
      "_________________________________________________________________\n",
      "block3_conv1 (Conv2D)        (None, 37, 37, 256)       295168    \n",
      "_________________________________________________________________\n",
      "block3_conv2 (Conv2D)        (None, 37, 37, 256)       590080    \n",
      "_________________________________________________________________\n",
      "block3_conv3 (Conv2D)        (None, 37, 37, 256)       590080    \n",
      "_________________________________________________________________\n",
      "block3_pool (MaxPooling2D)   (None, 18, 18, 256)       0         \n",
      "_________________________________________________________________\n",
      "block4_conv1 (Conv2D)        (None, 18, 18, 512)       1180160   \n",
      "_________________________________________________________________\n",
      "block4_conv2 (Conv2D)        (None, 18, 18, 512)       2359808   \n",
      "_________________________________________________________________\n",
      "block4_conv3 (Conv2D)        (None, 18, 18, 512)       2359808   \n",
      "_________________________________________________________________\n",
      "block4_pool (MaxPooling2D)   (None, 9, 9, 512)         0         \n",
      "_________________________________________________________________\n",
      "block5_conv1 (Conv2D)        (None, 9, 9, 512)         2359808   \n",
      "_________________________________________________________________\n",
      "block5_conv2 (Conv2D)        (None, 9, 9, 512)         2359808   \n",
      "_________________________________________________________________\n",
      "block5_conv3 (Conv2D)        (None, 9, 9, 512)         2359808   \n",
      "_________________________________________________________________\n",
      "block5_pool (MaxPooling2D)   (None, 4, 4, 512)         0         \n",
      "=================================================================\n",
      "Total params: 14,714,688\n",
      "Trainable params: 14,714,688\n",
      "Non-trainable params: 0\n",
      "_________________________________________________________________\n"
     ]
    }
   ],
   "source": [
    "conv_base.summary()"
   ]
  },
  {
   "cell_type": "code",
   "execution_count": 2,
   "metadata": {},
   "outputs": [],
   "source": [
    "import os\n",
    "import numpy as  np\n",
    "from keras.preprocessing.image import ImageDataGenerator"
   ]
  },
  {
   "cell_type": "code",
   "execution_count": 40,
   "metadata": {},
   "outputs": [],
   "source": [
    "base_dir = '/home/vajir/Desktop/Untitled Folder/ML/dog_vs_cat/dog_and_cat_small'\n",
    "train_dir = os.path.join(base_dir ,'train')\n",
    "validation_dir = os.path.join(base_dir ,'validation')\n",
    "test_dir = os.path.join(base_dir ,'test')\n",
    "datagen = ImageDataGenerator(rescale =1./255)\n",
    "batch_size = 20 "
   ]
  },
  {
   "cell_type": "code",
   "execution_count": 47,
   "metadata": {},
   "outputs": [],
   "source": [
    "def extract_feature(directory ,sample_count):\n",
    "    features = np.zeros(shape =(sample_count ,4 ,4 ,512))\n",
    "    labels = np.zeros(shape=(sample_count))\n",
    "    generator = datagen.flow_from_directory(directory ,target_size =(150 ,150) ,batch_size =20 ,class_mode ='binary')\n",
    "    i =0\n",
    "    for input_batch ,labels_batch in generator:\n",
    "        feature = conv_base.predict(input_batch)\n",
    "        features[i*batch_size:(i+1)*batch_size] = feature\n",
    "        labels[i*batch_size:(i+1)*batch_size] = labels_batch\n",
    "        i +=1\n",
    "        if i*batch_size >=sample_count:\n",
    "            break\n",
    "    return features ,labels"
   ]
  },
  {
   "cell_type": "code",
   "execution_count": 48,
   "metadata": {},
   "outputs": [
    {
     "name": "stdout",
     "output_type": "stream",
     "text": [
      "(2000, 8192)\n"
     ]
    }
   ],
   "source": [
    "print(train_features.shape)"
   ]
  },
  {
   "cell_type": "code",
   "execution_count": 49,
   "metadata": {},
   "outputs": [
    {
     "name": "stdout",
     "output_type": "stream",
     "text": [
      "Found 2000 images belonging to 2 classes.\n",
      "Found 1000 images belonging to 2 classes.\n",
      "Found 1000 images belonging to 2 classes.\n"
     ]
    }
   ],
   "source": [
    "train_features ,train_labels = extract_feature(train_dir ,2000)\n",
    "validation_features ,validation_labels =extract_feature(validation_dir ,1000)\n",
    "test_features ,test_labels = extract_feature(test_dir ,1000)"
   ]
  },
  {
   "cell_type": "code",
   "execution_count": 30,
   "metadata": {},
   "outputs": [],
   "source": [
    "# reshaping the output\n",
    "train_features = np.reshape(train_features ,(2000,4*4*512))\n",
    "validation_features = np.reshape(validation_features ,(1000 ,4*4*512))\n",
    "test_features = np.reshape(test_features ,(1000 ,4*4*512))"
   ]
  },
  {
   "cell_type": "code",
   "execution_count": 35,
   "metadata": {},
   "outputs": [
    {
     "name": "stdout",
     "output_type": "stream",
     "text": [
      "Train on 2000 samples, validate on 1000 samples\n",
      "Epoch 1/30\n",
      "2000/2000 [==============================] - 4s 2ms/step - loss: 0.4692 - acc: 0.7785 - val_loss: 0.2974 - val_acc: 0.8860\n",
      "Epoch 2/30\n",
      "2000/2000 [==============================] - 4s 2ms/step - loss: 0.2972 - acc: 0.8750 - val_loss: 0.2612 - val_acc: 0.8950\n",
      "Epoch 3/30\n",
      "2000/2000 [==============================] - 4s 2ms/step - loss: 0.2494 - acc: 0.8965 - val_loss: 0.2439 - val_acc: 0.9040\n",
      "Epoch 4/30\n",
      "2000/2000 [==============================] - 4s 2ms/step - loss: 0.2040 - acc: 0.9230 - val_loss: 0.2404 - val_acc: 0.9010\n",
      "Epoch 5/30\n",
      "2000/2000 [==============================] - 4s 2ms/step - loss: 0.1835 - acc: 0.9360 - val_loss: 0.2495 - val_acc: 0.8940\n",
      "Epoch 6/30\n",
      "2000/2000 [==============================] - 4s 2ms/step - loss: 0.1503 - acc: 0.9405 - val_loss: 0.2396 - val_acc: 0.9020\n",
      "Epoch 7/30\n",
      "2000/2000 [==============================] - 3s 2ms/step - loss: 0.1389 - acc: 0.9455 - val_loss: 0.2431 - val_acc: 0.8980\n",
      "Epoch 8/30\n",
      "2000/2000 [==============================] - 3s 2ms/step - loss: 0.1164 - acc: 0.9525 - val_loss: 0.2497 - val_acc: 0.9020\n",
      "Epoch 9/30\n",
      "2000/2000 [==============================] - 3s 2ms/step - loss: 0.1143 - acc: 0.9600 - val_loss: 0.2455 - val_acc: 0.9010\n",
      "Epoch 10/30\n",
      "2000/2000 [==============================] - 3s 2ms/step - loss: 0.0971 - acc: 0.9685 - val_loss: 0.2712 - val_acc: 0.8920\n",
      "Epoch 11/30\n",
      "2000/2000 [==============================] - 3s 2ms/step - loss: 0.0820 - acc: 0.9695 - val_loss: 0.2567 - val_acc: 0.9020\n",
      "Epoch 12/30\n",
      "2000/2000 [==============================] - 3s 2ms/step - loss: 0.0672 - acc: 0.9795 - val_loss: 0.2634 - val_acc: 0.8980\n",
      "Epoch 13/30\n",
      "2000/2000 [==============================] - 3s 2ms/step - loss: 0.0590 - acc: 0.9830 - val_loss: 0.2989 - val_acc: 0.8920\n",
      "Epoch 14/30\n",
      "2000/2000 [==============================] - 3s 2ms/step - loss: 0.0604 - acc: 0.9855 - val_loss: 0.3118 - val_acc: 0.8920\n",
      "Epoch 15/30\n",
      "2000/2000 [==============================] - 3s 2ms/step - loss: 0.0522 - acc: 0.9835 - val_loss: 0.2783 - val_acc: 0.8990\n",
      "Epoch 16/30\n",
      "2000/2000 [==============================] - 3s 2ms/step - loss: 0.0468 - acc: 0.9850 - val_loss: 0.2911 - val_acc: 0.8990\n",
      "Epoch 17/30\n",
      "2000/2000 [==============================] - 3s 2ms/step - loss: 0.0362 - acc: 0.9915 - val_loss: 0.3628 - val_acc: 0.8880\n",
      "Epoch 18/30\n",
      "2000/2000 [==============================] - 3s 2ms/step - loss: 0.0307 - acc: 0.9920 - val_loss: 0.3227 - val_acc: 0.8970\n",
      "Epoch 19/30\n",
      "2000/2000 [==============================] - 3s 2ms/step - loss: 0.0320 - acc: 0.9925 - val_loss: 0.3069 - val_acc: 0.8970\n",
      "Epoch 20/30\n",
      "2000/2000 [==============================] - 3s 2ms/step - loss: 0.0237 - acc: 0.9970 - val_loss: 0.3231 - val_acc: 0.8980\n",
      "Epoch 21/30\n",
      "2000/2000 [==============================] - 3s 2ms/step - loss: 0.0237 - acc: 0.9940 - val_loss: 0.3288 - val_acc: 0.9010\n",
      "Epoch 22/30\n",
      "2000/2000 [==============================] - 3s 2ms/step - loss: 0.0204 - acc: 0.9950 - val_loss: 0.3349 - val_acc: 0.9030\n",
      "Epoch 23/30\n",
      "2000/2000 [==============================] - 3s 2ms/step - loss: 0.0183 - acc: 0.9950 - val_loss: 0.3530 - val_acc: 0.9040\n",
      "Epoch 24/30\n",
      "2000/2000 [==============================] - 3s 2ms/step - loss: 0.0156 - acc: 0.9960 - val_loss: 0.3553 - val_acc: 0.9030\n",
      "Epoch 25/30\n",
      "2000/2000 [==============================] - 4s 2ms/step - loss: 0.0136 - acc: 0.9980 - val_loss: 0.3640 - val_acc: 0.9040\n",
      "Epoch 26/30\n",
      "2000/2000 [==============================] - 3s 2ms/step - loss: 0.0132 - acc: 0.9985 - val_loss: 0.3981 - val_acc: 0.8900\n",
      "Epoch 27/30\n",
      "2000/2000 [==============================] - 3s 2ms/step - loss: 0.0140 - acc: 0.9970 - val_loss: 0.3614 - val_acc: 0.9010\n",
      "Epoch 28/30\n",
      "2000/2000 [==============================] - 3s 2ms/step - loss: 0.0086 - acc: 1.0000 - val_loss: 0.4077 - val_acc: 0.8910\n",
      "Epoch 29/30\n",
      "2000/2000 [==============================] - 3s 2ms/step - loss: 0.0077 - acc: 0.9995 - val_loss: 0.3898 - val_acc: 0.9020\n",
      "Epoch 30/30\n",
      "2000/2000 [==============================] - 3s 2ms/step - loss: 0.0058 - acc: 0.9995 - val_loss: 0.4079 - val_acc: 0.8990\n"
     ]
    }
   ],
   "source": [
    "# defining and training the model\n",
    "from keras import models\n",
    "from keras import layers\n",
    "from keras import optimizers\n",
    "model = models.Sequential()\n",
    "model.add(layers.Dense(256 ,activation ='relu' ,input_dim =4*4*512))\n",
    "model.add(layers.Dropout(0.5))\n",
    "model.add(layers.Dense(1 ,activation ='sigmoid'))\n",
    "model.compile(optimizer =optimizers.RMSprop(lr =1e-4) ,loss ='binary_crossentropy' ,metrics =['acc'])\n",
    "history = model.fit(train_features ,train_labels ,epochs =30 ,batch_size =20 ,validation_data =(validation_features, validation_labels))"
   ]
  },
  {
   "cell_type": "code",
   "execution_count": 51,
   "metadata": {},
   "outputs": [
    {
     "data": {
      "image/png": "[encoded data removed]",
      "text/plain": [
       "<Figure size 432x288 with 1 Axes>"
      ]
     },
     "metadata": {},
     "output_type": "display_data"
    },
    {
     "data": {
      "image/png": "[encoded data removed]",
      "text/plain": [
       "<Figure size 432x288 with 1 Axes>"
      ]
     },
     "metadata": {},
     "output_type": "display_data"
    }
   ],
   "source": [
    "#plotting the accuracy vs epochs \n",
    "import matplotlib.pyplot as plt\n",
    "acc = history.history['acc']\n",
    "val_acc = history.history['val_acc']\n",
    "loss = history.history['loss']\n",
    "val_loss = history.history['val_loss']\n",
    "epochs = range(1 ,len(acc) +1)\n",
    "plt.plot(epochs ,acc ,'bo' ,label ='training_accuracy')\n",
    "plt.plot(epochs ,val_acc ,'b-' ,label ='validation_accuracy')\n",
    "plt.xlabel('epochs')\n",
    "plt.ylabel('accuracy')\n",
    "plt.legend()\n",
    "plt.show()\n",
    "plt.plot(epochs ,loss ,'bo' ,label ='training_loss')\n",
    "plt.plot(epochs ,val_loss ,'b-' ,label ='validation_loss')\n",
    "plt.xlabel('epochs')\n",
    "plt.ylabel('loss')\n",
    "plt.legend()\n",
    "plt.show()\n"
   ]
  },
  {
   "cell_type": "markdown",
   "metadata": {},
   "source": [
    "clearly from graph ,we can see the overfitting problem from starting of epoch even when we used dropot regularization of 0.5 ,that's because we have small dataset. For accomplishing this type of problem we can use end to end on input using  pretrained model while freezing the convolutional layer."
   ]
  },
  {
   "cell_type": "code",
   "execution_count": 52,
   "metadata": {},
   "outputs": [],
   "source": [
    "#Adding a densely connected classifier on top of the convolutional base\n",
    "from keras import models \n",
    "from keras import layers\n",
    "model = models.Sequential()\n",
    "model.add(conv_base)\n",
    "model.add(layers.Flatten())\n",
    "model.add(layers.Dense(256 ,activation ='relu'))\n",
    "model.add(layers.Dense(1 ,activation ='sigmoid'))"
   ]
  },
  {
   "cell_type": "code",
   "execution_count": 53,
   "metadata": {},
   "outputs": [
    {
     "name": "stdout",
     "output_type": "stream",
     "text": [
      "_________________________________________________________________\n",
      "Layer (type)                 Output Shape              Param #   \n",
      "=================================================================\n",
      "vgg16 (Model)                (None, 4, 4, 512)         14714688  \n",
      "_________________________________________________________________\n",
      "flatten_1 (Flatten)          (None, 8192)              0         \n",
      "_________________________________________________________________\n",
      "dense_3 (Dense)              (None, 256)               2097408   \n",
      "_________________________________________________________________\n",
      "dense_4 (Dense)              (None, 1)                 257       \n",
      "=================================================================\n",
      "Total params: 16,812,353\n",
      "Trainable params: 16,812,353\n",
      "Non-trainable params: 0\n",
      "_________________________________________________________________\n"
     ]
    }
   ],
   "source": [
    "model.summary()"
   ]
  },
  {
   "cell_type": "code",
   "execution_count": 54,
   "metadata": {},
   "outputs": [
    {
     "name": "stdout",
     "output_type": "stream",
     "text": [
      "before frezzing : 30\n",
      "after frezzing : 4\n"
     ]
    }
   ],
   "source": [
    "print('before frezzing :' ,len(model.trainable_weights))\n",
    "conv_base.trainable =False\n",
    "print('after frezzing :' ,len(model.trainable_weights))"
   ]
  },
  {
   "cell_type": "markdown",
   "metadata": {},
   "source": [
    "if we freeze the convolutional part we have to compile the model again,or these changes will be ignored.\n",
    "this method highly required GPU "
   ]
  },
  {
   "cell_type": "code",
   "execution_count": null,
   "metadata": {},
   "outputs": [],
   "source": [
    "\n",
    "from keras.preprocessing.image import ImageDataGenerator\n",
    "from keras import optimizers\n",
    "train_datagen = ImageDataGenerator(rescale =1./255 ,rotation_range =40 ,height_shift_range =0.2 ,width_shift_range =0.2 ,zoom_range =0.2 ,horizontal_flip =True ,fill_mode ='nearest')\n",
    "test_datagen = ImageDataGenerator(rescale =1./255)\n",
    "train_generator = train_datagen.flow_from_directory(train_dir ,target_size =(150 ,150), batch_size = 20 ,class_mode ='binary')\n",
    "validation_generator = test_datagen.flow_from_directory(validation_dir ,target_size =(150 ,150) ,batch_size =20 ,class_mode ='binary') \n",
    "model.compile(optimizer = optimizers.RMSprop(lr=2e-5) ,loss ='binary_crossentropy' ,metrics =['acc'])\n",
    "model.fit_generator(train_generator ,steps_per_epoch =100 ,epochs =30 ,validation_data =validation_generator ,validation_steps =50)"
   ]
  },
  {
   "cell_type": "markdown",
   "metadata": {},
   "source": [
    "after using this method we will get approximately validation accuracy 96%"
   ]
  },
  {
   "cell_type": "code",
   "execution_count": 60,
   "metadata": {},
   "outputs": [
    {
     "name": "stdout",
     "output_type": "stream",
     "text": [
      "_________________________________________________________________\n",
      "Layer (type)                 Output Shape              Param #   \n",
      "=================================================================\n",
      "input_1 (InputLayer)         (None, 150, 150, 3)       0         \n",
      "_________________________________________________________________\n",
      "block1_conv1 (Conv2D)        (None, 150, 150, 64)      1792      \n",
      "_________________________________________________________________\n",
      "block1_conv2 (Conv2D)        (None, 150, 150, 64)      36928     \n",
      "_________________________________________________________________\n",
      "block1_pool (MaxPooling2D)   (None, 75, 75, 64)        0         \n",
      "_________________________________________________________________\n",
      "block2_conv1 (Conv2D)        (None, 75, 75, 128)       73856     \n",
      "_________________________________________________________________\n",
      "block2_conv2 (Conv2D)        (None, 75, 75, 128)       147584    \n",
      "_________________________________________________________________\n",
      "block2_pool (MaxPooling2D)   (None, 37, 37, 128)       0         \n",
      "_________________________________________________________________\n",
      "block3_conv1 (Conv2D)        (None, 37, 37, 256)       295168    \n",
      "_________________________________________________________________\n",
      "block3_conv2 (Conv2D)        (None, 37, 37, 256)       590080    \n",
      "_________________________________________________________________\n",
      "block3_conv3 (Conv2D)        (None, 37, 37, 256)       590080    \n",
      "_________________________________________________________________\n",
      "block3_pool (MaxPooling2D)   (None, 18, 18, 256)       0         \n",
      "_________________________________________________________________\n",
      "block4_conv1 (Conv2D)        (None, 18, 18, 512)       1180160   \n",
      "_________________________________________________________________\n",
      "block4_conv2 (Conv2D)        (None, 18, 18, 512)       2359808   \n",
      "_________________________________________________________________\n",
      "block4_conv3 (Conv2D)        (None, 18, 18, 512)       2359808   \n",
      "_________________________________________________________________\n",
      "block4_pool (MaxPooling2D)   (None, 9, 9, 512)         0         \n",
      "_________________________________________________________________\n",
      "block5_conv1 (Conv2D)        (None, 9, 9, 512)         2359808   \n",
      "_________________________________________________________________\n",
      "block5_conv2 (Conv2D)        (None, 9, 9, 512)         2359808   \n",
      "_________________________________________________________________\n",
      "block5_conv3 (Conv2D)        (None, 9, 9, 512)         2359808   \n",
      "_________________________________________________________________\n",
      "block5_pool (MaxPooling2D)   (None, 4, 4, 512)         0         \n",
      "=================================================================\n",
      "Total params: 14,714,688\n",
      "Trainable params: 0\n",
      "Non-trainable params: 14,714,688\n",
      "_________________________________________________________________\n"
     ]
    }
   ],
   "source": [
    "conv_base.summary()"
   ]
  },
  {
   "cell_type": "markdown",
   "metadata": {},
   "source": [
    "we will fine tune only last three layer of convolutional layer. we will unfreeze only bolck5_conv1 ,bolck5_conv2 ,bolck5_conv3.\n",
    "There is 2 reason for we are only fine tune the last three layer :\n",
    "    1. earlier layer encode more generic features and reusable , and last layer encode features more specifically\n",
    "      so it will  be better to fine tune last layer\n",
    "     2.the more parameter we train, risk of overfitting will get high\n",
    "    "
   ]
  },
  {
   "cell_type": "code",
   "execution_count": 63,
   "metadata": {},
   "outputs": [],
   "source": [
    "#Freezing all layers up to a specific one\n",
    "conv_base.trainable = True\n",
    "set_trainable = False\n",
    "for layer in conv_base.layers:\n",
    "    if layer =='block5_conv1':\n",
    "        set_trainable =True\n",
    "    if set_trainable:\n",
    "        layer.trainable =True\n",
    "    else:\n",
    "        layer.trainable = False"
   ]
  },
  {
   "cell_type": "code",
   "execution_count": 64,
   "metadata": {},
   "outputs": [
    {
     "name": "stdout",
     "output_type": "stream",
     "text": [
      "Epoch 1/100\n",
      "100/100 [==============================] - 291s 3s/step - loss: 0.6330 - acc: 0.6465 - val_loss: 0.5480 - val_acc: 0.7430\n",
      "Epoch 2/100\n",
      "100/100 [==============================] - 289s 3s/step - loss: 0.5443 - acc: 0.7650 - val_loss: 0.4669 - val_acc: 0.7970\n",
      "Epoch 3/100\n",
      "100/100 [==============================] - 294s 3s/step - loss: 0.4950 - acc: 0.7850 - val_loss: 0.4186 - val_acc: 0.8260\n",
      "Epoch 4/100\n",
      "100/100 [==============================] - 297s 3s/step - loss: 0.4648 - acc: 0.7995 - val_loss: 0.3719 - val_acc: 0.8600\n",
      "Epoch 5/100\n",
      "100/100 [==============================] - 312s 3s/step - loss: 0.4436 - acc: 0.8070 - val_loss: 0.3494 - val_acc: 0.8590\n",
      "Epoch 6/100\n",
      "100/100 [==============================] - 305s 3s/step - loss: 0.4278 - acc: 0.8150 - val_loss: 0.3374 - val_acc: 0.8680\n",
      "Epoch 7/100\n",
      "100/100 [==============================] - 307s 3s/step - loss: 0.4138 - acc: 0.8195 - val_loss: 0.3205 - val_acc: 0.8740\n",
      "Epoch 8/100\n",
      "100/100 [==============================] - 303s 3s/step - loss: 0.3973 - acc: 0.8295 - val_loss: 0.3150 - val_acc: 0.8750\n",
      "Epoch 9/100\n",
      "100/100 [==============================] - 298s 3s/step - loss: 0.3817 - acc: 0.8415 - val_loss: 0.3018 - val_acc: 0.8800\n",
      "Epoch 10/100\n",
      "100/100 [==============================] - 353s 4s/step - loss: 0.3750 - acc: 0.8285 - val_loss: 0.2933 - val_acc: 0.8780\n",
      "Epoch 11/100\n",
      "100/100 [==============================] - 379s 4s/step - loss: 0.3708 - acc: 0.8475 - val_loss: 0.2899 - val_acc: 0.8850\n",
      "Epoch 12/100\n",
      "100/100 [==============================] - 375s 4s/step - loss: 0.3625 - acc: 0.8445 - val_loss: 0.2851 - val_acc: 0.8850\n",
      "Epoch 13/100\n",
      "100/100 [==============================] - 367s 4s/step - loss: 0.3453 - acc: 0.8540 - val_loss: 0.2794 - val_acc: 0.8800\n",
      "Epoch 14/100\n",
      "100/100 [==============================] - 358s 4s/step - loss: 0.3555 - acc: 0.8355 - val_loss: 0.2807 - val_acc: 0.8830\n",
      "Epoch 15/100\n",
      "100/100 [==============================] - 358s 4s/step - loss: 0.3437 - acc: 0.8550 - val_loss: 0.2702 - val_acc: 0.8900\n",
      "Epoch 16/100\n",
      "100/100 [==============================] - 360s 4s/step - loss: 0.3458 - acc: 0.8510 - val_loss: 0.2667 - val_acc: 0.8880\n",
      "Epoch 17/100\n",
      "100/100 [==============================] - 352s 4s/step - loss: 0.3414 - acc: 0.8555 - val_loss: 0.2652 - val_acc: 0.8940\n",
      "Epoch 18/100\n",
      "100/100 [==============================] - 350s 3s/step - loss: 0.3436 - acc: 0.8500 - val_loss: 0.2627 - val_acc: 0.8910\n",
      "Epoch 19/100\n",
      "100/100 [==============================] - 344s 3s/step - loss: 0.3360 - acc: 0.8585 - val_loss: 0.2608 - val_acc: 0.8920\n",
      "Epoch 20/100\n",
      "100/100 [==============================] - 379s 4s/step - loss: 0.3281 - acc: 0.8520 - val_loss: 0.2626 - val_acc: 0.8870\n",
      "Epoch 21/100\n",
      "100/100 [==============================] - 405s 4s/step - loss: 0.3266 - acc: 0.8615 - val_loss: 0.2584 - val_acc: 0.8920\n",
      "Epoch 22/100\n",
      "100/100 [==============================] - 385s 4s/step - loss: 0.3226 - acc: 0.8605 - val_loss: 0.2572 - val_acc: 0.8900\n",
      "Epoch 23/100\n",
      "100/100 [==============================] - 335s 3s/step - loss: 0.3205 - acc: 0.8625 - val_loss: 0.2570 - val_acc: 0.8890\n",
      "Epoch 24/100\n",
      "100/100 [==============================] - 333s 3s/step - loss: 0.3195 - acc: 0.8590 - val_loss: 0.2565 - val_acc: 0.8980\n",
      "Epoch 25/100\n",
      "100/100 [==============================] - 289s 3s/step - loss: 0.3282 - acc: 0.8495 - val_loss: 0.2518 - val_acc: 0.8950\n",
      "Epoch 26/100\n",
      "100/100 [==============================] - 313s 3s/step - loss: 0.3198 - acc: 0.8555 - val_loss: 0.2562 - val_acc: 0.8980\n",
      "Epoch 27/100\n",
      "100/100 [==============================] - 324s 3s/step - loss: 0.3105 - acc: 0.8595 - val_loss: 0.2494 - val_acc: 0.8970\n",
      "Epoch 28/100\n",
      "100/100 [==============================] - 349s 3s/step - loss: 0.3100 - acc: 0.8610 - val_loss: 0.2491 - val_acc: 0.8990\n",
      "Epoch 29/100\n",
      "100/100 [==============================] - 358s 4s/step - loss: 0.3201 - acc: 0.8555 - val_loss: 0.2468 - val_acc: 0.9010\n",
      "Epoch 30/100\n",
      "100/100 [==============================] - 371s 4s/step - loss: 0.3034 - acc: 0.8700 - val_loss: 0.2474 - val_acc: 0.8970\n",
      "Epoch 31/100\n",
      "100/100 [==============================] - 358s 4s/step - loss: 0.3049 - acc: 0.8695 - val_loss: 0.2446 - val_acc: 0.9040\n",
      "Epoch 32/100\n",
      "100/100 [==============================] - 440s 4s/step - loss: 0.2982 - acc: 0.8755 - val_loss: 0.2443 - val_acc: 0.9050\n",
      "Epoch 33/100\n",
      "100/100 [==============================] - 580s 6s/step - loss: 0.2962 - acc: 0.8735 - val_loss: 0.2460 - val_acc: 0.8940\n",
      "Epoch 34/100\n",
      "100/100 [==============================] - 559s 6s/step - loss: 0.3090 - acc: 0.8640 - val_loss: 0.2418 - val_acc: 0.9030\n",
      "Epoch 35/100\n",
      "100/100 [==============================] - 497s 5s/step - loss: 0.3077 - acc: 0.8610 - val_loss: 0.2411 - val_acc: 0.9000\n",
      "Epoch 36/100\n",
      "100/100 [==============================] - 363s 4s/step - loss: 0.3033 - acc: 0.8735 - val_loss: 0.2405 - val_acc: 0.9030\n",
      "Epoch 37/100\n",
      "100/100 [==============================] - 322s 3s/step - loss: 0.2831 - acc: 0.8790 - val_loss: 0.2412 - val_acc: 0.9020\n",
      "Epoch 38/100\n",
      "100/100 [==============================] - 318s 3s/step - loss: 0.2953 - acc: 0.8710 - val_loss: 0.2476 - val_acc: 0.9010\n",
      "Epoch 39/100\n",
      "100/100 [==============================] - 323s 3s/step - loss: 0.2864 - acc: 0.8730 - val_loss: 0.2394 - val_acc: 0.9050\n",
      "Epoch 40/100\n",
      "100/100 [==============================] - 325s 3s/step - loss: 0.3100 - acc: 0.8635 - val_loss: 0.2427 - val_acc: 0.8980\n",
      "Epoch 41/100\n",
      "100/100 [==============================] - 326s 3s/step - loss: 0.2999 - acc: 0.8720 - val_loss: 0.2418 - val_acc: 0.9000\n",
      "Epoch 42/100\n",
      "100/100 [==============================] - 327s 3s/step - loss: 0.3031 - acc: 0.8615 - val_loss: 0.2400 - val_acc: 0.9000\n",
      "Epoch 43/100\n",
      "100/100 [==============================] - 325s 3s/step - loss: 0.2853 - acc: 0.8795 - val_loss: 0.2381 - val_acc: 0.9010\n",
      "Epoch 44/100\n",
      "100/100 [==============================] - 325s 3s/step - loss: 0.2931 - acc: 0.8745 - val_loss: 0.2395 - val_acc: 0.8980\n",
      "Epoch 45/100\n",
      "100/100 [==============================] - 332s 3s/step - loss: 0.3029 - acc: 0.8620 - val_loss: 0.2413 - val_acc: 0.8990\n",
      "Epoch 46/100\n",
      "100/100 [==============================] - 326s 3s/step - loss: 0.2920 - acc: 0.8700 - val_loss: 0.2365 - val_acc: 0.9070\n",
      "Epoch 47/100\n",
      "100/100 [==============================] - 325s 3s/step - loss: 0.2742 - acc: 0.8865 - val_loss: 0.2362 - val_acc: 0.9030\n",
      "Epoch 48/100\n",
      "100/100 [==============================] - 325s 3s/step - loss: 0.2889 - acc: 0.8780 - val_loss: 0.2348 - val_acc: 0.9050\n",
      "Epoch 49/100\n",
      "100/100 [==============================] - 326s 3s/step - loss: 0.2771 - acc: 0.8765 - val_loss: 0.2461 - val_acc: 0.8950\n",
      "Epoch 50/100\n",
      "100/100 [==============================] - 325s 3s/step - loss: 0.2736 - acc: 0.8900 - val_loss: 0.2362 - val_acc: 0.9060\n",
      "Epoch 51/100\n",
      "100/100 [==============================] - 326s 3s/step - loss: 0.2774 - acc: 0.8850 - val_loss: 0.2393 - val_acc: 0.9050\n",
      "Epoch 52/100\n",
      "100/100 [==============================] - 339s 3s/step - loss: 0.2884 - acc: 0.8785 - val_loss: 0.2371 - val_acc: 0.9060\n",
      "Epoch 53/100\n",
      "100/100 [==============================] - 346s 3s/step - loss: 0.2710 - acc: 0.8915 - val_loss: 0.2479 - val_acc: 0.8950\n",
      "Epoch 54/100\n",
      "100/100 [==============================] - 339s 3s/step - loss: 0.2760 - acc: 0.8880 - val_loss: 0.2384 - val_acc: 0.9040\n",
      "Epoch 55/100\n",
      "100/100 [==============================] - 295s 3s/step - loss: 0.2723 - acc: 0.8840 - val_loss: 0.2444 - val_acc: 0.8950\n",
      "Epoch 56/100\n",
      "100/100 [==============================] - 276s 3s/step - loss: 0.2864 - acc: 0.8765 - val_loss: 0.2362 - val_acc: 0.9040\n",
      "Epoch 57/100\n",
      "100/100 [==============================] - 275s 3s/step - loss: 0.2657 - acc: 0.8860 - val_loss: 0.2424 - val_acc: 0.9040\n",
      "Epoch 58/100\n",
      "100/100 [==============================] - 275s 3s/step - loss: 0.2765 - acc: 0.8830 - val_loss: 0.2448 - val_acc: 0.8970\n",
      "Epoch 59/100\n",
      "100/100 [==============================] - 276s 3s/step - loss: 0.2767 - acc: 0.8875 - val_loss: 0.2382 - val_acc: 0.9040\n",
      "Epoch 60/100\n",
      "100/100 [==============================] - 276s 3s/step - loss: 0.2709 - acc: 0.8890 - val_loss: 0.2418 - val_acc: 0.9020\n",
      "Epoch 61/100\n",
      "100/100 [==============================] - 276s 3s/step - loss: 0.2766 - acc: 0.8820 - val_loss: 0.2372 - val_acc: 0.9070\n"
     ]
    },
    {
     "name": "stdout",
     "output_type": "stream",
     "text": [
      "Epoch 62/100\n",
      "100/100 [==============================] - 276s 3s/step - loss: 0.2785 - acc: 0.8725 - val_loss: 0.2394 - val_acc: 0.9060\n",
      "Epoch 63/100\n",
      "100/100 [==============================] - 276s 3s/step - loss: 0.2741 - acc: 0.8790 - val_loss: 0.2386 - val_acc: 0.9020\n",
      "Epoch 64/100\n",
      "100/100 [==============================] - 276s 3s/step - loss: 0.2814 - acc: 0.8805 - val_loss: 0.2405 - val_acc: 0.9060\n",
      "Epoch 65/100\n",
      "100/100 [==============================] - 276s 3s/step - loss: 0.2740 - acc: 0.8840 - val_loss: 0.2434 - val_acc: 0.9030\n",
      "Epoch 66/100\n",
      "100/100 [==============================] - 276s 3s/step - loss: 0.2689 - acc: 0.8875 - val_loss: 0.2386 - val_acc: 0.9010\n",
      "Epoch 67/100\n",
      "100/100 [==============================] - 276s 3s/step - loss: 0.2744 - acc: 0.8850 - val_loss: 0.2400 - val_acc: 0.9030\n",
      "Epoch 68/100\n",
      "100/100 [==============================] - 277s 3s/step - loss: 0.2819 - acc: 0.8765 - val_loss: 0.2377 - val_acc: 0.9060\n",
      "Epoch 69/100\n",
      "100/100 [==============================] - 299s 3s/step - loss: 0.2816 - acc: 0.8840 - val_loss: 0.2368 - val_acc: 0.9060\n",
      "Epoch 70/100\n",
      "100/100 [==============================] - 297s 3s/step - loss: 0.2703 - acc: 0.8820 - val_loss: 0.2386 - val_acc: 0.9070\n",
      "Epoch 71/100\n",
      "100/100 [==============================] - 298s 3s/step - loss: 0.2509 - acc: 0.9015 - val_loss: 0.2389 - val_acc: 0.9110\n",
      "Epoch 72/100\n",
      "100/100 [==============================] - 288s 3s/step - loss: 0.2796 - acc: 0.8815 - val_loss: 0.2394 - val_acc: 0.9070\n",
      "Epoch 73/100\n",
      "100/100 [==============================] - 303s 3s/step - loss: 0.2607 - acc: 0.8950 - val_loss: 0.2399 - val_acc: 0.9060\n",
      "Epoch 74/100\n",
      "100/100 [==============================] - 301s 3s/step - loss: 0.2712 - acc: 0.8910 - val_loss: 0.2409 - val_acc: 0.9050\n",
      "Epoch 75/100\n",
      "100/100 [==============================] - 296s 3s/step - loss: 0.2644 - acc: 0.8875 - val_loss: 0.2443 - val_acc: 0.9000\n",
      "Epoch 76/100\n",
      "100/100 [==============================] - 304s 3s/step - loss: 0.2543 - acc: 0.8920 - val_loss: 0.2368 - val_acc: 0.9130\n",
      "Epoch 77/100\n",
      "100/100 [==============================] - 296s 3s/step - loss: 0.2708 - acc: 0.8840 - val_loss: 0.2373 - val_acc: 0.9100\n",
      "Epoch 78/100\n",
      "100/100 [==============================] - 287s 3s/step - loss: 0.2667 - acc: 0.8805 - val_loss: 0.2413 - val_acc: 0.9060\n",
      "Epoch 79/100\n",
      "100/100 [==============================] - 298s 3s/step - loss: 0.2656 - acc: 0.8865 - val_loss: 0.2448 - val_acc: 0.9020\n",
      "Epoch 80/100\n",
      "100/100 [==============================] - 300s 3s/step - loss: 0.2546 - acc: 0.9020 - val_loss: 0.2385 - val_acc: 0.9060\n",
      "Epoch 81/100\n",
      "100/100 [==============================] - 292s 3s/step - loss: 0.2523 - acc: 0.8980 - val_loss: 0.2385 - val_acc: 0.9100\n",
      "Epoch 82/100\n",
      "100/100 [==============================] - 276s 3s/step - loss: 0.2619 - acc: 0.8955 - val_loss: 0.2404 - val_acc: 0.9070\n",
      "Epoch 83/100\n",
      "100/100 [==============================] - 275s 3s/step - loss: 0.2724 - acc: 0.8810 - val_loss: 0.2389 - val_acc: 0.9080\n",
      "Epoch 84/100\n",
      "100/100 [==============================] - 276s 3s/step - loss: 0.2623 - acc: 0.8860 - val_loss: 0.2410 - val_acc: 0.9040\n",
      "Epoch 85/100\n",
      "100/100 [==============================] - 275s 3s/step - loss: 0.2577 - acc: 0.8945 - val_loss: 0.2426 - val_acc: 0.9010\n",
      "Epoch 86/100\n",
      "100/100 [==============================] - 296s 3s/step - loss: 0.2690 - acc: 0.8835 - val_loss: 0.2390 - val_acc: 0.9070\n",
      "Epoch 87/100\n",
      "100/100 [==============================] - 323s 3s/step - loss: 0.2683 - acc: 0.8865 - val_loss: 0.2417 - val_acc: 0.9100\n",
      "Epoch 88/100\n",
      "100/100 [==============================] - 279s 3s/step - loss: 0.2468 - acc: 0.8960 - val_loss: 0.2463 - val_acc: 0.9010\n",
      "Epoch 89/100\n",
      "100/100 [==============================] - 291s 3s/step - loss: 0.2643 - acc: 0.8865 - val_loss: 0.2425 - val_acc: 0.9070\n",
      "Epoch 90/100\n",
      "100/100 [==============================] - 288s 3s/step - loss: 0.2735 - acc: 0.8790 - val_loss: 0.2400 - val_acc: 0.9050\n",
      "Epoch 91/100\n",
      "100/100 [==============================] - 285s 3s/step - loss: 0.2682 - acc: 0.8860 - val_loss: 0.2422 - val_acc: 0.9030\n",
      "Epoch 92/100\n",
      "100/100 [==============================] - 298s 3s/step - loss: 0.2622 - acc: 0.8825 - val_loss: 0.2414 - val_acc: 0.9050\n",
      "Epoch 93/100\n",
      "100/100 [==============================] - 276s 3s/step - loss: 0.2543 - acc: 0.8895 - val_loss: 0.2394 - val_acc: 0.9090\n",
      "Epoch 94/100\n",
      "100/100 [==============================] - 275s 3s/step - loss: 0.2547 - acc: 0.8870 - val_loss: 0.2394 - val_acc: 0.9030\n",
      "Epoch 95/100\n",
      "100/100 [==============================] - 275s 3s/step - loss: 0.2578 - acc: 0.8930 - val_loss: 0.2378 - val_acc: 0.9090\n",
      "Epoch 96/100\n",
      "100/100 [==============================] - 275s 3s/step - loss: 0.2666 - acc: 0.8890 - val_loss: 0.2386 - val_acc: 0.9120\n",
      "Epoch 97/100\n",
      "100/100 [==============================] - 275s 3s/step - loss: 0.2456 - acc: 0.8960 - val_loss: 0.2406 - val_acc: 0.9020\n",
      "Epoch 98/100\n",
      "100/100 [==============================] - 275s 3s/step - loss: 0.2643 - acc: 0.8825 - val_loss: 0.2386 - val_acc: 0.9040\n",
      "Epoch 99/100\n",
      "100/100 [==============================] - 275s 3s/step - loss: 0.2586 - acc: 0.8990 - val_loss: 0.2375 - val_acc: 0.9080\n",
      "Epoch 100/100\n",
      "100/100 [==============================] - 276s 3s/step - loss: 0.2410 - acc: 0.8960 - val_loss: 0.2385 - val_acc: 0.9050\n"
     ]
    },
    {
     "data": {
      "text/plain": [
       "<keras.callbacks.History at 0x7f0cc085bcc0>"
      ]
     },
     "execution_count": 64,
     "metadata": {},
     "output_type": "execute_result"
    }
   ],
   "source": [
    "model.compile(optimizer = optimizers.RMSprop(lr =1e-5) ,loss ='binary_crossentropy' ,metrics =['acc'])\n",
    "model.fit_generator(train_generator ,steps_per_epoch =100 ,epochs =100 ,validation_data =validation_generator ,validation_steps =50)"
   ]
  },
  {
   "cell_type": "code",
   "execution_count": 65,
   "metadata": {},
   "outputs": [],
   "source": [
    "model.save('pretrained_dog_vs_cat.h5')"
   ]
  },
  {
   "cell_type": "code",
   "execution_count": null,
   "metadata": {},
   "outputs": [],
   "source": []
  }
 ],
 "metadata": {
  "kernelspec": {
   "display_name": "Python 3",
   "language": "python",
   "name": "python3"
  },
  "language_info": {
   "codemirror_mode": {
    "name": "ipython",
    "version": 3
   },
   "file_extension": ".py",
   "mimetype": "text/x-python",
   "name": "python",
   "nbconvert_exporter": "python",
   "pygments_lexer": "ipython3",
   "version": "3.6.5"
  }
 },
 "nbformat": 4,
 "nbformat_minor": 2
}
