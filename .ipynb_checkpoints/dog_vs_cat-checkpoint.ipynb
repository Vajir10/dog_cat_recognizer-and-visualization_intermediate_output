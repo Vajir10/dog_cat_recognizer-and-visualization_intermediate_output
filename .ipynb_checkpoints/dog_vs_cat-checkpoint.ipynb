{
 "cells": [
  {
   "cell_type": "code",
   "execution_count": 8,
   "metadata": {},
   "outputs": [],
   "source": [
    "import os\n",
    "original_dataset_dir = '/Users/Rajiv/Desktop/ML/data/train' # original directory where data is stored\n",
    "base_dir = '/Users/Rajiv/Desktop/ML/Kaggle/dog_vs_cat/dog_and_cat_small'  # making directory where new data will store\n",
    "os.mkdir(base_dir)"
   ]
  },
  {
   "cell_type": "code",
   "execution_count": 9,
   "metadata": {},
   "outputs": [],
   "source": [
    "# making three dirctory inside dog and cat small for train , validation and test\n",
    "train_dir = os.path.join(base_dir , 'train')\n",
    "os.mkdir(train_dir)\n",
    "validation_dir = os.path.join(base_dir ,'validtion')\n",
    "os.mkdir(validation_dir)\n",
    "test_dir = os.path.join(base_dir ,'test')\n",
    "os.mkdir(test_dir)"
   ]
  },
  {
   "cell_type": "code",
   "execution_count": 10,
   "metadata": {
    "collapsed": true
   },
   "outputs": [],
   "source": [
    "# making specific directory for cat and dog\n",
    "train_cats_dir = os.path.join(train_dir ,'cats')\n",
    "os.mkdir(train_cats_dir)\n",
    "validation_cats_dir = os.path.join(validation_dir ,'cats')\n",
    "os.mkdir(validation_cats_dir)\n",
    "test_cats_dir = os.path.join(test_dir ,'cats')\n",
    "os.mkdir(test_cats_dir)\n",
    "train_dogs_dir = os.path.join(train_dir ,'dogs')\n",
    "os.mkdir(train_dogs_dir)\n",
    "validation_dogs_dir = os.path.join(validation_dir ,'dogs')\n",
    "os.mkdir(validation_dogs_dir)\n",
    "test_dogs_dir = os.path.join(test_dir ,'dogs')\n",
    "os.mkdir(test_dogs_dir)"
   ]
  },
  {
   "cell_type": "code",
   "execution_count": 11,
   "metadata": {
    "collapsed": true
   },
   "outputs": [],
   "source": [
    "import shutil"
   ]
  },
  {
   "cell_type": "code",
   "execution_count": 14,
   "metadata": {
    "collapsed": true
   },
   "outputs": [],
   "source": [
    "# copying the first 1000 pic of cat in train directory\n",
    "fnames = ['cat.{}.jpg'.format(i) for i in range(1000)]  # creating a list containg the name of first 1000 images of cats\n",
    "for fname in fnames:\n",
    "    src = os.path.join(original_dataset_dir ,fname)\n",
    "    dst = os.path.join(train_cats_dir ,fname)\n",
    "    shutil.copyfile(src ,dst)\n",
    "##########################################################\n",
    "# copying the  1000- 15000 pic of  cat in validation directory\n",
    "fnames = ['cat.{}.jpg'.format(i) for i in range(1000 ,1500)]  # creating a list containg the name of 500 images of cats\n",
    "for fname in fnames:\n",
    "    src = os.path.join(original_dataset_dir ,fname)\n",
    "    dst = os.path.join(validation_cats_dir ,fname)\n",
    "    shutil.copyfile(src ,dst)\n",
    "#######################################################\n",
    "# copying the 1500-2000 pic of cat in test directory\n",
    "fnames = ['cat.{}.jpg'.format(i) for i in range(1500 ,2000)]  # creating a list containg the name of 500 images of cats\n",
    "for fname in fnames:\n",
    "    src = os.path.join(original_dataset_dir ,fname)\n",
    "    dst = os.path.join(test_cats_dir ,fname)\n",
    "    shutil.copyfile(src ,dst)\n",
    "###################################\n",
    "# copying the first 1000 pic of dog in train directory\n",
    "fnames = ['dog.{}.jpg'.format(i) for i in range(1000)]  # creating a list containg the name of first 1000 images of dogs\n",
    "for fname in fnames:\n",
    "    src = os.path.join(original_dataset_dir ,fname)\n",
    "    dst = os.path.join(train_dogs_dir ,fname)\n",
    "    shutil.copyfile(src ,dst)\n",
    "##########################################################\n",
    "# copying the  1000- 1500 pic of  dog in validation directory\n",
    "fnames = ['dog.{}.jpg'.format(i) for i in range(1000 ,1500)]  # creating a list containg the name of 500 images of dogs\n",
    "for fname in fnames:\n",
    "    src = os.path.join(original_dataset_dir ,fname)\n",
    "    dst = os.path.join(validation_dogs_dir ,fname)\n",
    "    shutil.copyfile(src ,dst)\n",
    "#######################################################\n",
    "# copying the 1500-2000 pic of cat in test directory\n",
    "fnames = ['dog.{}.jpg'.format(i) for i in range(1500 ,2000)]  # creating a list containg the name of 500 images of dogs\n",
    "for fname in fnames:\n",
    "    src = os.path.join(original_dataset_dir ,fname)\n",
    "    dst = os.path.join(test_dogs_dir ,fname)\n",
    "    shutil.copyfile(src ,dst)\n",
    "############\n"
   ]
  },
  {
   "cell_type": "code",
   "execution_count": 2,
   "metadata": {},
   "outputs": [
    {
     "name": "stderr",
     "output_type": "stream",
     "text": [
      "C:\\Users\\Rajiv\\Anaconda3\\lib\\site-packages\\h5py\\__init__.py:34: FutureWarning: Conversion of the second argument of issubdtype from `float` to `np.floating` is deprecated. In future, it will be treated as `np.float64 == np.dtype(float).type`.\n",
      "  from ._conv import register_converters as _register_converters\n",
      "Using TensorFlow backend.\n"
     ]
    }
   ],
   "source": [
    "# network architecture\n",
    "from keras import models\n",
    "from keras import layers\n",
    "model = models.Sequential()\n",
    "model.add(layers.Conv2D(32 ,(3,3) ,activation ='relu' ,input_shape =(150,150,3)))\n",
    "model.add(layers.MaxPooling2D((2,2)))\n",
    "model.add(layers.Conv2D(64 ,(3,3) ,activation ='relu'))\n",
    "model.add(layers.MaxPooling2D((2 ,2)))\n",
    "model.add(layers.Conv2D(128 ,(3 ,3) ,activation ='relu'))\n",
    "model.add(layers.MaxPooling2D((2 ,2)))\n",
    "model.add(layers.Conv2D(128 ,(3 ,3) ,activation ='relu'))\n",
    "model.add(layers.MaxPooling2D((2,2)))\n",
    "model.add(layers.Flatten())\n",
    "model.add(layers.Dense(512 ,activation ='relu'))\n",
    "model.add(layers.Dense(1 ,activation ='sigmoid'))"
   ]
  },
  {
   "cell_type": "code",
   "execution_count": 3,
   "metadata": {},
   "outputs": [
    {
     "name": "stdout",
     "output_type": "stream",
     "text": [
      "_________________________________________________________________\n",
      "Layer (type)                 Output Shape              Param #   \n",
      "=================================================================\n",
      "conv2d_1 (Conv2D)            (None, 148, 148, 32)      896       \n",
      "_________________________________________________________________\n",
      "max_pooling2d_1 (MaxPooling2 (None, 74, 74, 32)        0         \n",
      "_________________________________________________________________\n",
      "conv2d_2 (Conv2D)            (None, 72, 72, 64)        18496     \n",
      "_________________________________________________________________\n",
      "max_pooling2d_2 (MaxPooling2 (None, 36, 36, 64)        0         \n",
      "_________________________________________________________________\n",
      "conv2d_3 (Conv2D)            (None, 34, 34, 128)       73856     \n",
      "_________________________________________________________________\n",
      "max_pooling2d_3 (MaxPooling2 (None, 17, 17, 128)       0         \n",
      "_________________________________________________________________\n",
      "conv2d_4 (Conv2D)            (None, 15, 15, 128)       147584    \n",
      "_________________________________________________________________\n",
      "max_pooling2d_4 (MaxPooling2 (None, 7, 7, 128)         0         \n",
      "_________________________________________________________________\n",
      "flatten_1 (Flatten)          (None, 6272)              0         \n",
      "_________________________________________________________________\n",
      "dense_1 (Dense)              (None, 512)               3211776   \n",
      "_________________________________________________________________\n",
      "dense_2 (Dense)              (None, 1)                 513       \n",
      "=================================================================\n",
      "Total params: 3,453,121\n",
      "Trainable params: 3,453,121\n",
      "Non-trainable params: 0\n",
      "_________________________________________________________________\n"
     ]
    }
   ],
   "source": [
    "model.summary()"
   ]
  },
  {
   "cell_type": "code",
   "execution_count": 4,
   "metadata": {
    "collapsed": true
   },
   "outputs": [],
   "source": [
    "# compiling the model with momentum\n",
    "from keras import optimizers\n",
    "model.compile(loss ='binary_crossentropy' ,optimizer = optimizers.RMSprop(lr =1e-4) ,metrics =['acc'])"
   ]
  },
  {
   "cell_type": "code",
   "execution_count": 12,
   "metadata": {},
   "outputs": [
    {
     "name": "stdout",
     "output_type": "stream",
     "text": [
      "Found 2000 images belonging to 2 classes.\n",
      "Found 1000 images belonging to 2 classes.\n"
     ]
    }
   ],
   "source": [
    "# Data prepprocessing\n",
    "from keras.preprocessing.image import ImageDataGenerator\n",
    "train_datagen = ImageDataGenerator(rescale =1./255.0)\n",
    "test_datagen = ImageDataGenerator(rescale =1./255.0)\n",
    "train_generator = train_datagen.flow_from_directory(train_dir ,target_size =(150 ,150) ,batch_size =20 ,class_mode ='binary')\n",
    "validation_generator = test_datagen.flow_from_directory(validation_dir ,target_size =(150 ,150) ,batch_size =20 ,class_mode ='binary')"
   ]
  },
  {
   "cell_type": "code",
   "execution_count": null,
   "metadata": {},
   "outputs": [
    {
     "name": "stdout",
     "output_type": "stream",
     "text": [
      "Epoch 1/30\n",
      "100/100 [==============================] - 136s 1s/step - loss: 0.6870 - acc: 0.5380 - val_loss: 0.6781 - val_acc: 0.5550\n",
      "Epoch 2/30\n",
      "100/100 [==============================] - 122s 1s/step - loss: 0.6356 - acc: 0.6360 - val_loss: 0.6271 - val_acc: 0.6380\n",
      "Epoch 3/30\n",
      "100/100 [==============================] - 137s 1s/step - loss: 0.5929 - acc: 0.6750 - val_loss: 0.6111 - val_acc: 0.6600\n",
      "Epoch 4/30\n",
      "100/100 [==============================] - 128s 1s/step - loss: 0.5594 - acc: 0.7115 - val_loss: 0.6041 - val_acc: 0.6680\n",
      "Epoch 5/30\n",
      "100/100 [==============================] - 120s 1s/step - loss: 0.5259 - acc: 0.7385 - val_loss: 0.6040 - val_acc: 0.6800\n",
      "Epoch 6/30\n",
      "100/100 [==============================] - 120s 1s/step - loss: 0.5022 - acc: 0.7545 - val_loss: 0.5917 - val_acc: 0.6700\n",
      "Epoch 7/30\n",
      "100/100 [==============================] - 117s 1s/step - loss: 0.4796 - acc: 0.7685 - val_loss: 0.6356 - val_acc: 0.6770\n",
      "Epoch 8/30\n",
      "100/100 [==============================] - 115s 1s/step - loss: 0.4507 - acc: 0.7915 - val_loss: 0.5611 - val_acc: 0.7140\n",
      "Epoch 9/30\n",
      "100/100 [==============================] - 125s 1s/step - loss: 0.4320 - acc: 0.7965 - val_loss: 0.5555 - val_acc: 0.7090\n",
      "Epoch 10/30\n",
      "100/100 [==============================] - 121s 1s/step - loss: 0.4018 - acc: 0.8155 - val_loss: 0.6529 - val_acc: 0.6740\n",
      "Epoch 11/30\n",
      "100/100 [==============================] - 122s 1s/step - loss: 0.3854 - acc: 0.8270 - val_loss: 0.5733 - val_acc: 0.7130\n",
      "Epoch 12/30\n",
      "100/100 [==============================] - 125s 1s/step - loss: 0.3521 - acc: 0.8455 - val_loss: 0.6714 - val_acc: 0.6810\n",
      "Epoch 13/30\n",
      "100/100 [==============================] - 120s 1s/step - loss: 0.3309 - acc: 0.8640 - val_loss: 0.5682 - val_acc: 0.7210\n",
      "Epoch 14/30\n",
      "100/100 [==============================] - 143s 1s/step - loss: 0.3083 - acc: 0.8800 - val_loss: 0.5629 - val_acc: 0.7340\n",
      "Epoch 15/30\n",
      "100/100 [==============================] - 147s 1s/step - loss: 0.2857 - acc: 0.8780 - val_loss: 0.5833 - val_acc: 0.7310\n",
      "Epoch 16/30\n",
      "100/100 [==============================] - 139s 1s/step - loss: 0.2634 - acc: 0.8975 - val_loss: 0.6531 - val_acc: 0.7200\n",
      "Epoch 17/30\n",
      "100/100 [==============================] - 127s 1s/step - loss: 0.2372 - acc: 0.9075 - val_loss: 0.6271 - val_acc: 0.7220\n",
      "Epoch 18/30\n",
      "100/100 [==============================] - 128s 1s/step - loss: 0.2244 - acc: 0.9165 - val_loss: 0.6651 - val_acc: 0.7180\n",
      "Epoch 19/30\n",
      "100/100 [==============================] - 138s 1s/step - loss: 0.2082 - acc: 0.9215 - val_loss: 0.6214 - val_acc: 0.7370\n",
      "Epoch 20/30\n",
      " 37/100 [==========>...................] - ETA: 1:15 - loss: 0.1500 - acc: 0.9568"
     ]
    }
   ],
   "source": [
    "# fitting the model\n",
    "history = model.fit_generator(train_generator ,steps_per_epoch=100 ,epochs =30 ,validation_data =validation_generator ,validation_steps =50)"
   ]
  },
  {
   "cell_type": "code",
   "execution_count": null,
   "metadata": {},
   "outputs": [],
   "source": [
    "data_batch"
   ]
  },
  {
   "cell_type": "code",
   "execution_count": null,
   "metadata": {},
   "outputs": [],
   "source": [
    "model.save('dog_vs_cat_1.h5')"
   ]
  },
  {
   "cell_type": "code",
   "execution_count": null,
   "metadata": {},
   "outputs": [],
   "source": [
    "# plotting the graph of accuracy and \n",
    "import matplotlib.pyplot as plt\n",
    "acc = history.history['acc']\n",
    "val_acc = history.history['val_acc']\n",
    "loss = history.history['loss']\n",
    "val_loss = history.history['val_loss']\n",
    "epochs = range(1 ,len(acc) +1)\n",
    "plt.plot(epochs ,acc ,'bo' ,label ='training_acc')\n",
    "plt.plot(epochs ,val_acc ,'b-' ,label = 'validation_accuracy')\n",
    "plt.title('accuracy vs epochs')\n",
    "plt.legend()\n",
    "plt.show()\n",
    "plt.plot(epochs ,loss ,'bo' ,label ='training_loss')\n",
    "plt.plot(epochs ,val_loss ,'b-' ,label ='validation_loss')\n",
    "plt.title('loss vs epochs')\n",
    "plt.legend()\n",
    "plt.show()"
   ]
  },
  {
   "cell_type": "code",
   "execution_count": null,
   "metadata": {
    "collapsed": true
   },
   "outputs": [],
   "source": [
    "# setting up data augmentation via ImageDatagenerator\n",
    "datagen = ImageDataGenerator(rotation_range =40 ,width_shift_range =.2 ,height_shift_range =.2 ,shear_range =.2 ,zoom_range =.2 ,horizontal_flip =True ,fill_mode ='nearest')"
   ]
  },
  {
   "cell_type": "code",
   "execution_count": 5,
   "metadata": {},
   "outputs": [],
   "source": [
    "# looking the data augmnetes picture\n",
    "from keras.preprocessing.image import ImageDataGenerator\n",
    "datagen = ImageDataGenerator(rotation_range =40 ,height_shift_range =0.2 ,width_shift_range =0.2 ,shear_range =0.2 ,zoom_range =0.2 ,horizontal_flip =True ,fill_mode='nearest')\n",
    "\n"
   ]
  },
  {
   "cell_type": "code",
   "execution_count": null,
   "metadata": {},
   "outputs": [],
   "source": [
    "# plotiing the augmented image\n",
    "from keras.preprocessing import image\n",
    "fnames= [os.path.join(train_cats_dir ,fname) for fname in os.list_dir(train_cats_dir)]  # creating a list of directory of all images\n",
    "img_path = fnames[3]   # picking a arbitary path of images \n",
    "img = image.load_img(img_path ,target_size =(150 ,150))     # reading and resize image\n",
    "x = image.img_to_array(img)                               # converting into array\n",
    "x = x.reshape((1 ,) +x.shape)\n",
    "i =0\n",
    "for batch in datagen.flow(x ,batch_size =1):          \n",
    "    plt.figure(i)\n",
    "    imgplot = plt.imshow(image.array_to_img(batch[0]))     # converting array of img into image\n",
    "    if i%4==0:\n",
    "        break\n",
    "plt.show()\n",
    "\n"
   ]
  },
  {
   "cell_type": "code",
   "execution_count": 9,
   "metadata": {},
   "outputs": [],
   "source": [
    "# defining a model with dropt out regularization\n",
    "from keras import models\n",
    "from keras import layers\n",
    "model = models.Sequential()\n",
    "model.add(layers.Conv2D(32 ,(3 ,3) ,activation ='relu' ,input_shape =(150 ,150 ,3))) ###shape -> 148,148,32\n",
    "model.add(layers.MaxPooling2D((2 ,2)))                                               ###shape -> 74,74,32     \n",
    "model.add(layers.Conv2D(64 ,(3 ,3) ,activation ='relu' ))                           ###shape -> 72,72,64\n",
    "model.add(layers.MaxPooling2D((2 ,2)))                                              ###shape -> 36,36,64\n",
    "model.add(layers.Conv2D(128 ,(3 ,3) ,activation ='relu' ))                           ###shape -> 34,34,128\n",
    "model.add(layers.MaxPooling2D((2 ,2)))                                              ###shape -> 17,17,128\n",
    "model.add(layers.Conv2D(128 ,(3 ,3) ,activation ='relu' ))                           ###shape -> 15,15,128\n",
    "model.add(layers.MaxPooling2D((2 ,2)))                                              ###shape -> 7,7,128\n",
    "model.add(layers.Flatten())\n",
    "model.add(layers.Dropout(0.5))\n",
    "model.add(layers.Dense(512 ,activation ='relu'))\n",
    "model.add(layers.Dense(1 ,activation ='sigmoid'))"
   ]
  },
  {
   "cell_type": "code",
   "execution_count": null,
   "metadata": {},
   "outputs": [],
   "source": []
  }
 ],
 "metadata": {
  "kernelspec": {
   "display_name": "Python 3",
   "language": "python",
   "name": "python3"
  },
  "language_info": {
   "codemirror_mode": {
    "name": "ipython",
    "version": 3
   },
   "file_extension": ".py",
   "mimetype": "text/x-python",
   "name": "python",
   "nbconvert_exporter": "python",
   "pygments_lexer": "ipython3",
   "version": "3.6.5"
  }
 },
 "nbformat": 4,
 "nbformat_minor": 2
}
